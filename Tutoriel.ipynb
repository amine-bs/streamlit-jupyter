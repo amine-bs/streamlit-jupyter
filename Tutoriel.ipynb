{
 "cells": [
  {
   "cell_type": "markdown",
   "id": "fc24474b-0f1b-4df9-b66d-cfd47c67d27f",
   "metadata": {},
   "source": [
    "**Streamlit**\n",
    "\n",
    "Streamlit est une bibliothèque Python qui permet de créer des application web sans avoir besoin de savoir le développement web. \n",
    "\n",
    "On écrit les différentes parties dans l'ordre qu'on souhaite s'afficher sur la page web. \n",
    "- ``st.title(title:str)`` permet d'afficher un titre\n",
    "- ``st.write(text:str)`` permet d'écrire un texte\n",
    "- ``st.file_uploader()`` permet d'ajouter un bouton ``upload`` pour importer des fichiers. Le fichier importé sera sous la forme de bytes.\n",
    "\n",
    "Streamlit permet aussi de mettre des données en cache. Cela est utile pour enregistrer les résultats de fonctions qu'on utilise souvent avec les mêmes paramètres (load_model par exemple). Donc, Streamlit va calculer la fonction seulement pour la première exécution. Cela est possible avec la synatxe ``@st.cache()`` qu'on écrit avant la fonction qu'on veut enregistrer.\n"
   ]
  },
  {
   "cell_type": "code",
   "execution_count": null,
   "id": "e9fe7694-f4af-4deb-8ffd-9b2f687a197d",
   "metadata": {},
   "outputs": [],
   "source": [
    "#install dependencies\n",
    "!pip install streamlit\n",
    "!pip install boto3"
   ]
  },
  {
   "cell_type": "markdown",
   "id": "a20bc97c-03b3-4f35-828d-bda2b0cca575",
   "metadata": {},
   "source": [
    "**Utils**"
   ]
  },
  {
   "cell_type": "code",
   "execution_count": 5,
   "id": "7bee8dc9-2d5c-4853-b274-7242a08e5b83",
   "metadata": {},
   "outputs": [],
   "source": [
    "from PIL import Image\n",
    "import torch\n",
    "from model import ResNet\n",
    "import torch.nn.functional as F\n",
    "import torchvision.transforms.functional as TF\n",
    "import streamlit as st\n",
    "import boto3\n",
    "import pickle\n",
    "\n",
    "IMG_EXTENSIONS = [\n",
    "    '.jpg', '.JPG', '.jpeg', '.JPEG',\n",
    "    '.png', '.PNG', '.ppm', '.PPM', '.bmp', '.BMP']\n",
    "\n",
    "#@st.cache()\n",
    "def import_model(bucket, key=\"diffusion/state_dict.pickle\", device=torch.device('cpu')):\n",
    "    s3 = boto3.client('s3',endpoint_url='https://minio.lab.sspcloud.fr/')\n",
    "    data = s3.get_object(Bucket=bucket, Key=key)\n",
    "    state_dict = pickle.loads(data['Body'].read())\n",
    "    model = ResNet()\n",
    "    model.load_state_dict(state_dict)\n",
    "    model.to(device)\n",
    "    model.eval()\n",
    "    return model\n",
    "\n",
    "def load_image(file):\n",
    "    img = Image.open(file).convert(\"RGB\")\n",
    "    return img\n",
    "\n",
    "#@st.cache()\n",
    "def predict(img, model, device):\n",
    "    img = TF.to_tensor(img)\n",
    "    img = TF.normalize(img, [0.485, 0.456, 0.406], [0.229, 0.224, 0.225])\n",
    "    img = img.to(device)\n",
    "    img = img.unsqueeze(0)\n",
    "    preds = model(img)\n",
    "    preds = F.softmax(preds, dim=1)\n",
    "    if float(preds[0][0]) < float(preds[0][1]):\n",
    "        results = \"There is a ship!\"\n",
    "    else:\n",
    "        results = \"There is no ship!\"\n",
    "    return results\n",
    "\n",
    "@st.cache()\n",
    "def load_device():\n",
    "    if torch.cuda.is_available():\n",
    "        device = torch.device('cuda')\n",
    "    else:\n",
    "        device = torch.device('cpu')\n",
    "    return device\n",
    "@st.cache()\n",
    "def is_image_file(filename):\n",
    "  return any(filename.endswith(extension) for extension in IMG_EXTENSIONS)"
   ]
  },
  {
   "cell_type": "markdown",
   "id": "43993ee7-398e-4131-8724-d3242d5a1b16",
   "metadata": {},
   "source": [
    "**main**"
   ]
  },
  {
   "cell_type": "code",
   "execution_count": 6,
   "id": "5ac887bd-67f7-4256-984e-712539bbe21a",
   "metadata": {},
   "outputs": [
    {
     "name": "stderr",
     "output_type": "stream",
     "text": [
      "/opt/mamba/lib/python3.9/site-packages/torchvision/models/_utils.py:208: UserWarning: The parameter 'pretrained' is deprecated since 0.13 and will be removed in 0.15, please use 'weights' instead.\n",
      "  warnings.warn(\n",
      "/opt/mamba/lib/python3.9/site-packages/torchvision/models/_utils.py:223: UserWarning: Arguments other than a weight enum or `None` for 'weights' are deprecated since 0.13 and will be removed in 0.15. The current behavior is equivalent to passing `weights=None`.\n",
      "  warnings.warn(msg)\n"
     ]
    }
   ],
   "source": [
    "import torch\n",
    "\n",
    "device = load_device()\n",
    "model = import_model(bucket=\"mbenxsalha\", key=\"diffusion/state_dict.pickle\", device=device)\n",
    "\n",
    "st.title(\"Welcome to The Ship Detective!\")\n",
    "st.write(\"The image you upload will be fed to a Deep Neural Network in real-time to verify if there is a ship or not\")\n",
    "file = st.file_uploader(\"Upload an image\")\n",
    "\n",
    "if file:\n",
    "    img = load_image(file)\n",
    "    predictions = predict(img, model, device)\n",
    "    st.title(\"Here is the image you uploaded\")\n",
    "    resized_image = img.resize((340, 340))\n",
    "    st.image(resized_image)\n",
    "    st.title(\"Prediction:\")\n",
    "    st.write(predictions)\n",
    "\n"
   ]
  },
  {
   "cell_type": "code",
   "execution_count": 11,
   "id": "bb6b0fd7-36ba-4ba2-a4e8-1358434590dc",
   "metadata": {},
   "outputs": [
    {
     "name": "stdout",
     "output_type": "stream",
     "text": [
      "\u001b[0m\n",
      "\u001b[34m\u001b[1m  You can now view your Streamlit app in your browser.\u001b[0m\n",
      "\u001b[0m\n",
      "\u001b[34m  Network URL: \u001b[0m\u001b[1mhttp://10.233.127.249:8501\u001b[0m\n",
      "\u001b[34m  External URL: \u001b[0m\u001b[1mhttp://185.24.184.227:8501\u001b[0m\n",
      "\u001b[0m\n",
      "^C\n",
      "\u001b[34m  Stopping...\u001b[0m\n"
     ]
    }
   ],
   "source": [
    "!streamlit run main.py"
   ]
  },
  {
   "cell_type": "code",
   "execution_count": null,
   "id": "369071ab-c784-4b5b-ab0e-77d4f0a4c1ba",
   "metadata": {},
   "outputs": [],
   "source": []
  }
 ],
 "metadata": {
  "kernelspec": {
   "display_name": "Python 3.9.4 64-bit",
   "language": "python",
   "name": "python3"
  },
  "language_info": {
   "codemirror_mode": {
    "name": "ipython",
    "version": 3
   },
   "file_extension": ".py",
   "mimetype": "text/x-python",
   "name": "python",
   "nbconvert_exporter": "python",
   "pygments_lexer": "ipython3",
   "version": "3.9.4"
  },
  "vscode": {
   "interpreter": {
    "hash": "d9542dd7b953ad8a15b001f77d82648cfda59701cf2c2b565b7c59e3c6c6ed16"
   }
  }
 },
 "nbformat": 4,
 "nbformat_minor": 5
}
